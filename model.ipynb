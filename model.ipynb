{
 "cells": [
  {
   "cell_type": "code",
   "execution_count": 3,
   "metadata": {},
   "outputs": [
    {
     "data": {
      "text/plain": [
       "True"
      ]
     },
     "execution_count": 3,
     "metadata": {},
     "output_type": "execute_result"
    }
   ],
   "source": [
    "import cv2\n",
    "import numpy as np\n",
    "\n",
    "# Load one grayscale image\n",
    "grayscale_image = cv2.imread('grayscale_image.jpg', cv2.IMREAD_GRAYSCALE)\n",
    "\n",
    "# Dimensions\n",
    "h, w = grayscale_image.shape\n",
    "\n",
    "# Simulate colorization stages from the same grayscale image\n",
    "# Add a small color change in each stage\n",
    "\n",
    "# Stage 1: Slight red tint\n",
    "color_stage_1 = cv2.merge([grayscale_image, np.zeros((h, w), dtype='uint8'), np.zeros((h, w), dtype='uint8')])\n",
    "\n",
    "# Stage 2: Add green tint\n",
    "color_stage_2 = cv2.merge([grayscale_image, grayscale_image // 2, np.zeros((h, w), dtype='uint8')])\n",
    "\n",
    "# Stage 3: Fully colorize with some blue\n",
    "color_stage_3 = cv2.merge([grayscale_image, grayscale_image // 2, grayscale_image // 2])\n",
    "\n",
    "# Save the stages (for visualization)\n",
    "cv2.imwrite('grayscale_image.jpg', grayscale_image)\n",
    "cv2.imwrite('color_stage_1.jpg', color_stage_1)\n",
    "cv2.imwrite('color_stage_2.jpg', color_stage_2)\n",
    "cv2.imwrite('color_stage_3.jpg', color_stage_3)\n"
   ]
  }
 ],
 "metadata": {
  "kernelspec": {
   "display_name": "Python 3",
   "language": "python",
   "name": "python3"
  },
  "language_info": {
   "codemirror_mode": {
    "name": "ipython",
    "version": 3
   },
   "file_extension": ".py",
   "mimetype": "text/x-python",
   "name": "python",
   "nbconvert_exporter": "python",
   "pygments_lexer": "ipython3",
   "version": "3.12.6"
  }
 },
 "nbformat": 4,
 "nbformat_minor": 2
}
